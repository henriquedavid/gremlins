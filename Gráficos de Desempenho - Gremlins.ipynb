{
 "cells": [
  {
   "cell_type": "code",
   "execution_count": 132,
   "metadata": {},
   "outputs": [
    {
     "data": {
      "text/html": [
       "<script>\n",
       "code_show=true; \n",
       "function code_toggle() {\n",
       " if (code_show){\n",
       " $('div.input').hide();\n",
       " } else {\n",
       " $('div.input').show();\n",
       " }\n",
       " code_show = !code_show\n",
       "} \n",
       "$( document ).ready(code_toggle);\n",
       "</script>\n",
       "<style>\n",
       "    #code{\n",
       "        color:white;\n",
       "    }\n",
       "</style>\n",
       "<a href=\"javascript:code_toggle()\" id = \"code\">O código está oculto, para visualizar clique aqui!</a>."
      ],
      "text/plain": [
       "<IPython.core.display.HTML object>"
      ]
     },
     "execution_count": 132,
     "metadata": {},
     "output_type": "execute_result"
    }
   ],
   "source": [
    "HTML('''<script>\n",
    "code_show=true; \n",
    "function code_toggle() {\n",
    " if (code_show){\n",
    " $('div.input').hide();\n",
    " } else {\n",
    " $('div.input').show();\n",
    " }\n",
    " code_show = !code_show\n",
    "} \n",
    "$( document ).ready(code_toggle);\n",
    "</script>\n",
    "<style>\n",
    "    #code{\n",
    "        color:white;\n",
    "    }\n",
    "</style>\n",
    "<a href=\"javascript:code_toggle()\" id = \"code\">O código está oculto, para visualizar clique aqui!</a>.''')"
   ]
  },
  {
   "cell_type": "markdown",
   "metadata": {},
   "source": [
    "# Análise de Desempenho entre o StoragePool do Sistema Operacional e do SLPool"
   ]
  },
  {
   "cell_type": "code",
   "execution_count": 17,
   "metadata": {},
   "outputs": [],
   "source": [
    "import pandas as pd\n",
    "import matplotlib.pyplot as plt\n",
    "from IPython.display import HTML"
   ]
  },
  {
   "cell_type": "markdown",
   "metadata": {},
   "source": [
    "Nos gráficos abaixo é possível perceber o processamento de cada tipo de Gerenciador de Memória. Como suporte, logo abaixo é apresentado a tabela com os resultados de comparações, os quais ajudam a interpretar os gráficos.\n",
    "\n",
    "Interpretação da tabela:\n",
    "- <span style=\"background-color: #F9EBEA; color:##C0392B\">qntAllocate</span> - quantidade de dado alocados.\n",
    "- <span style=\"background-color: #F9EBEA; color:##C0392B\">SLPool</span> - tempo gasto pela SLPool para a qntAllocate.\n",
    "- <span style=\"background-color: #F9EBEA; color:##C0392B\">SO</span> - tempo gasto pelo SO para realizar a alocação de qntAllocate"
   ]
  },
  {
   "cell_type": "code",
   "execution_count": 114,
   "metadata": {},
   "outputs": [
    {
     "data": {
      "text/html": [
       "<div>\n",
       "<style scoped>\n",
       "    .dataframe tbody tr th:only-of-type {\n",
       "        vertical-align: middle;\n",
       "    }\n",
       "\n",
       "    .dataframe tbody tr th {\n",
       "        vertical-align: top;\n",
       "    }\n",
       "\n",
       "    .dataframe thead th {\n",
       "        text-align: right;\n",
       "    }\n",
       "</style>\n",
       "<table border=\"1\" class=\"dataframe\">\n",
       "  <thead>\n",
       "    <tr style=\"text-align: right;\">\n",
       "      <th></th>\n",
       "      <th>qntAllocate</th>\n",
       "      <th>SLPool</th>\n",
       "      <th>SO</th>\n",
       "    </tr>\n",
       "  </thead>\n",
       "  <tbody>\n",
       "    <tr>\n",
       "      <th>0</th>\n",
       "      <td>100</td>\n",
       "      <td>30268.9</td>\n",
       "      <td>4868.58</td>\n",
       "    </tr>\n",
       "    <tr>\n",
       "      <th>1</th>\n",
       "      <td>500</td>\n",
       "      <td>149908</td>\n",
       "      <td>22444.40</td>\n",
       "    </tr>\n",
       "    <tr>\n",
       "      <th>2</th>\n",
       "      <td>1000</td>\n",
       "      <td>289684</td>\n",
       "      <td>46072.90</td>\n",
       "    </tr>\n",
       "    <tr>\n",
       "      <th>3</th>\n",
       "      <td>2000</td>\n",
       "      <td>596986</td>\n",
       "      <td>93266.00</td>\n",
       "    </tr>\n",
       "    <tr>\n",
       "      <th>4</th>\n",
       "      <td>3000</td>\n",
       "      <td>903375</td>\n",
       "      <td>146028.00</td>\n",
       "    </tr>\n",
       "    <tr>\n",
       "      <th>5</th>\n",
       "      <td>4000</td>\n",
       "      <td>1,19E+11</td>\n",
       "      <td>190179.00</td>\n",
       "    </tr>\n",
       "    <tr>\n",
       "      <th>6</th>\n",
       "      <td>5000</td>\n",
       "      <td>1,49E+11</td>\n",
       "      <td>238404.00</td>\n",
       "    </tr>\n",
       "  </tbody>\n",
       "</table>\n",
       "</div>"
      ],
      "text/plain": [
       "   qntAllocate    SLPool         SO\n",
       "0          100   30268.9    4868.58\n",
       "1          500    149908   22444.40\n",
       "2         1000    289684   46072.90\n",
       "3         2000    596986   93266.00\n",
       "4         3000    903375  146028.00\n",
       "5         4000  1,19E+11  190179.00\n",
       "6         5000  1,49E+11  238404.00"
      ]
     },
     "execution_count": 114,
     "metadata": {},
     "output_type": "execute_result"
    }
   ],
   "source": [
    "dados = pd.read_csv(\"allocation.csv\", sep=';')\n",
    "repeticoes = pd.read_csv(\"Quantidade de processamentos.csv\", sep=';')\n",
    "slpool = [30268.9, 149908, 289684, 596986, 903375, 119000000000, 149000000000]\n",
    "\n",
    "dados"
   ]
  },
  {
   "cell_type": "markdown",
   "metadata": {},
   "source": [
    "No gráfico abaixo é possível perceber o processamento da SLPool, por volta de 3000 dados alocados o tempo continuou, entretanto, a partir dos 3000 dados o tempo começou a ficar maior, de forma que em mais de 5000 dados o computador começa a ficar mais lento por processar uma quantidade maior de dados."
   ]
  },
  {
   "cell_type": "code",
   "execution_count": 99,
   "metadata": {},
   "outputs": [
    {
     "data": {
      "image/png": "[encoded data removed]",
      "text/plain": [
       "<matplotlib.figure.Figure at 0x1919e7011d0>"
      ]
     },
     "metadata": {},
     "output_type": "display_data"
    }
   ],
   "source": [
    "ax = plt.plot(dados[\"qntAllocate\"], slpool, c=\"green\", label =\"SLPool\")\n",
    "plt.ylabel(\"Tempo\")\n",
    "plt.xlabel(\"Dados\")\n",
    "plt.legend(loc=\"upper right\")\n",
    "plt.title(\"SLPool\")\n",
    "plt.show()"
   ]
  },
  {
   "cell_type": "markdown",
   "metadata": {},
   "source": [
    "Analisando o gráfico da StoragePool do Sistema Operacional temos uma reviravolta quanto as informações, já que o sistema operacional consegue lidar melhor com o processo de alocação e desalocação do sistema, de forma que o tempo fique linear."
   ]
  },
  {
   "cell_type": "code",
   "execution_count": 62,
   "metadata": {},
   "outputs": [
    {
     "data": {
      "image/png": "[encoded data removed]",
      "text/plain": [
       "<matplotlib.figure.Figure at 0x1919d10fbe0>"
      ]
     },
     "metadata": {},
     "output_type": "display_data"
    }
   ],
   "source": [
    "ax1 = dados.plot(x = \"qntAllocate\", y = \"SO\", c=\"red\", label =\"SO\")\n",
    "ax1.set_ylabel(\"Tempo\")\n",
    "ax1.set_xlabel(\"Dados\")\n",
    "plt.legend(loc=\"upper right\")\n",
    "plt.title(\"StoragePool do Sistema Operacional\")\n",
    "plt.show()"
   ]
  },
  {
   "cell_type": "markdown",
   "metadata": {},
   "source": [
    "É importante frizar que ao comparar os dados temos informações bem diferentes, levando-se pelo intervalo de cada gráfico em razão do tempo, por motivos de melhor visualização entre ambos, já que com um maior tempo no gráfico da SLPool não poderiamos analisar bem o gráfico do SO. No gráfico abaixo é possível perceber o funcionamento da SLPool no mesmo intervalo do SO, ou seja (0, 250000). É possível analisar que o SO trata melhor o processo de alocação e liberação, já que trabalha em um menor tempo que o SLPool."
   ]
  },
  {
   "cell_type": "code",
   "execution_count": 105,
   "metadata": {},
   "outputs": [
    {
     "data": {
      "image/png": "[encoded data removed]",
      "text/plain": [
       "<matplotlib.figure.Figure at 0x1919f1cf400>"
      ]
     },
     "metadata": {},
     "output_type": "display_data"
    }
   ],
   "source": [
    "ax1 = plt.plot(dados[\"qntAllocate\"], slpool, c=\"green\", label =\"SLPool\")\n",
    "plt.ylim(0, 250000 )\n",
    "plt.ylabel(\"Tempo\")\n",
    "plt.xlabel(\"Dados\")\n",
    "plt.legend(loc=\"upper right\")\n",
    "plt.title(\"SLPool\")\n",
    "plt.show()"
   ]
  },
  {
   "cell_type": "markdown",
   "metadata": {},
   "source": [
    "A tabela abaixo retrata o tempo levado para a realização das alocações e desalocações com repetições variando. Imagine um cenário o qual haverá de tratar os dados várias vezes. Os dados é diferentes dos de cima porque agora a ideia é voltada para uma grande quantidade de repetições, enquanto o outro é para o processo de alocação e liberação de acordo com o tamanho.\n",
    "\n",
    "Interpretação da tabela:\n",
    "- <span style=\"background-color: #F9EBEA; color:##C0392B\">Repeticoes</span> - quantidade de repetições realizadas.\n",
    "- <span style=\"background-color: #F9EBEA; color:##C0392B\">SO</span> - média de tempo em que o StoragePool do Sistema Operacional alocou e desalocou.\n",
    "- <span style=\"background-color: #F9EBEA; color:##C0392B\">SLPool</span> - média de tempo em que o SLPool realizou as alocações e liberação."
   ]
  },
  {
   "cell_type": "code",
   "execution_count": null,
   "metadata": {},
   "outputs": [],
   "source": []
  },
  {
   "cell_type": "code",
   "execution_count": 121,
   "metadata": {},
   "outputs": [
    {
     "data": {
      "text/html": [
       "<div>\n",
       "<style scoped>\n",
       "    .dataframe tbody tr th:only-of-type {\n",
       "        vertical-align: middle;\n",
       "    }\n",
       "\n",
       "    .dataframe tbody tr th {\n",
       "        vertical-align: top;\n",
       "    }\n",
       "\n",
       "    .dataframe thead th {\n",
       "        text-align: right;\n",
       "    }\n",
       "</style>\n",
       "<table border=\"1\" class=\"dataframe\">\n",
       "  <thead>\n",
       "    <tr style=\"text-align: right;\">\n",
       "      <th></th>\n",
       "      <th>Repeticoes</th>\n",
       "      <th>SO</th>\n",
       "      <th>SLPool</th>\n",
       "    </tr>\n",
       "  </thead>\n",
       "  <tbody>\n",
       "    <tr>\n",
       "      <th>0</th>\n",
       "      <td>10</td>\n",
       "      <td>111448.0</td>\n",
       "      <td>70554.8</td>\n",
       "    </tr>\n",
       "    <tr>\n",
       "      <th>1</th>\n",
       "      <td>100</td>\n",
       "      <td>48818.8</td>\n",
       "      <td>100250.0</td>\n",
       "    </tr>\n",
       "    <tr>\n",
       "      <th>2</th>\n",
       "      <td>1000</td>\n",
       "      <td>46287.5</td>\n",
       "      <td>35323.0</td>\n",
       "    </tr>\n",
       "    <tr>\n",
       "      <th>3</th>\n",
       "      <td>10000</td>\n",
       "      <td>47549.3</td>\n",
       "      <td>31408.6</td>\n",
       "    </tr>\n",
       "    <tr>\n",
       "      <th>4</th>\n",
       "      <td>100000</td>\n",
       "      <td>46736.7</td>\n",
       "      <td>31545.8</td>\n",
       "    </tr>\n",
       "  </tbody>\n",
       "</table>\n",
       "</div>"
      ],
      "text/plain": [
       "   Repeticoes        SO    SLPool\n",
       "0          10  111448.0   70554.8\n",
       "1         100   48818.8  100250.0\n",
       "2        1000   46287.5   35323.0\n",
       "3       10000   47549.3   31408.6\n",
       "4      100000   46736.7   31545.8"
      ]
     },
     "execution_count": 121,
     "metadata": {},
     "output_type": "execute_result"
    }
   ],
   "source": [
    "repeticoes.columns = ['Repeticoes', 'SO', 'SLPool']\n",
    "repeticoes"
   ]
  },
  {
   "cell_type": "markdown",
   "metadata": {},
   "source": [
    "O gráfico abaixo traz uma comparações entre as repetições. É possível notar que as repetições com o SLPool levam menos tempo que as do Sistema Operacional, o qual pode ser uma vantagem caso o usuário veja ser necessário executar várias repetições em alocar e desalocar.\n",
    "\n",
    "(a mensagem de erro acima do gráfico é normal quando se utiliza a geração de gráfico com pandas apartir de uma tabela.)"
   ]
  },
  {
   "cell_type": "code",
   "execution_count": 128,
   "metadata": {},
   "outputs": [
    {
     "name": "stderr",
     "output_type": "stream",
     "text": [
      "C:\\Users\\Henrique\\Anaconda3\\lib\\site-packages\\pandas\\plotting\\_core.py:1716: UserWarning: Pandas doesn't allow columns to be created via a new attribute name - see https://pandas.pydata.org/pandas-docs/stable/indexing.html#attribute-access\n",
      "  series.name = label\n"
     ]
    },
    {
     "data": {
      "image/png": "[encoded data removed]",
      "text/plain": [
       "<matplotlib.figure.Figure at 0x1919f53dfd0>"
      ]
     },
     "metadata": {},
     "output_type": "display_data"
    }
   ],
   "source": [
    "ax = repeticoes.plot(kind='line', x='Repeticoes', y=['SO', 'SLPool'], title=\"Repetições de Execuções\", color=['red', 'green'],\n",
    "                     legend=True)\n",
    "plt.ylabel(\"Tempo\")\n",
    "plt.show()"
   ]
  },
  {
   "cell_type": "code",
   "execution_count": null,
   "metadata": {},
   "outputs": [],
   "source": []
  },
  {
   "cell_type": "markdown",
   "metadata": {},
   "source": [
    "### Acesso ao GitHub do Gremlins: [GREMLINS](https://github.com/henriquedavidufrn/gremlins)"
   ]
  },
  {
   "cell_type": "code",
   "execution_count": null,
   "metadata": {},
   "outputs": [],
   "source": []
  }
 ],
 "metadata": {
  "kernelspec": {
   "display_name": "Python 3",
   "language": "python",
   "name": "python3"
  },
  "language_info": {
   "codemirror_mode": {
    "name": "ipython",
    "version": 3
   },
   "file_extension": ".py",
   "mimetype": "text/x-python",
   "name": "python",
   "nbconvert_exporter": "python",
   "pygments_lexer": "ipython3",
   "version": "3.6.4"
  }
 },
 "nbformat": 4,
 "nbformat_minor": 2
}
